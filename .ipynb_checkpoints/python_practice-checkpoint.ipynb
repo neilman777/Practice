{
 "cells": [
  {
   "cell_type": "markdown",
   "metadata": {},
   "source": [
    "Python 初學特訓班"
   ]
  },
  {
   "cell_type": "code",
   "execution_count": 28,
   "metadata": {},
   "outputs": [
    {
     "name": "stdout",
     "output_type": "stream",
     "text": [
      "total=9&5\n",
      "35\n",
      "3 5\n",
      "3&5\n",
      "3&5,被吸到上一列2\n"
     ]
    }
   ],
   "source": [
    "# CH1\n",
    "# sum\n",
    "\n",
    "a=6\n",
    "b=3\n",
    "sum = a+ b\n",
    "print('total=' + str(sum) ,'5' , sep = '&' ) \n",
    "print('3'  + '5'   ) \n",
    "print('3'  , '5'   ) \n",
    "print('3'  , '5' , sep = '&'  ) \n",
    " \n",
    "print('3'  , '5' , sep = '&' ,end= '' ) \n",
    "print( ',被吸到上一列2' )\n"
   ]
  },
  {
   "cell_type": "code",
   "execution_count": 126,
   "metadata": {},
   "outputs": [
    {
     "name": "stdout",
     "output_type": "stream",
     "text": [
      "第                              1 次執行迴圈\n",
      "第                              2 次執行迴圈\n",
      "第                              3 次執行迴圈\n",
      "第                              4 次執行迴圈\n",
      "第                              5 次執行迴圈\n",
      "第                              6 次執行迴圈\n",
      "第                              7 次執行迴圈\n",
      "第                              8 次執行迴圈\n",
      "第                              9 次執行迴圈\n",
      "第                             10 次執行迴圈\n",
      "1+2+...+10 =                                                 55\n"
     ]
    }
   ],
   "source": [
    "# loop\n",
    "sum = 0\n",
    "\n",
    "n=1\n",
    "\n",
    "def show(n):\n",
    "    print('第 ' + '%30s'%n + ' 次執行迴圈')\n",
    "\n",
    "for i in range(1, 11):\n",
    "    show(i)\n",
    "    sum += i\n",
    "print(\"1+2+...+10 = \" + '%50s'%(sum))\n",
    "\n",
    "#  %n\n",
    "#  %(sum)"
   ]
  },
  {
   "cell_type": "code",
   "execution_count": 39,
   "metadata": {},
   "outputs": [
    {
     "name": "stdout",
     "output_type": "stream",
     "text": [
      "John  's core is 80\n"
     ]
    }
   ],
   "source": [
    "# print(項目 % (參數列)\n",
    "\n",
    "name = \"John\"\n",
    "score = 80\n",
    "\n",
    "print(\"%s  \\'s core is %d\" % (name,score) )"
   ]
  },
  {
   "cell_type": "code",
   "execution_count": 45,
   "metadata": {},
   "outputs": [
    {
     "name": "stdout",
     "output_type": "stream",
     "text": [
      "                John 's core is                   80\n"
     ]
    }
   ],
   "source": [
    "name = 'John'\n",
    "score = 80\n",
    "\n",
    "print('%20s \\'s core is %20d' % (name,score) )"
   ]
  },
  {
   "cell_type": "code",
   "execution_count": 53,
   "metadata": {},
   "outputs": [
    {
     "name": "stdout",
     "output_type": "stream",
     "text": [
      "價格為     23.8 \n",
      "價格為    23.80 \n",
      "價格為 23.80 \n"
     ]
    }
   ],
   "source": [
    "price = 23.8\n",
    "\n",
    "# error    print('價格為' %8.2f % price )\n",
    "\n",
    "print('價格為 %8.1f ' % price )\n",
    "print('價格為 %8.2f ' % price )\n",
    "print('價格為 %3.2f ' % price )\n",
    "\n"
   ]
  },
  {
   "cell_type": "code",
   "execution_count": 58,
   "metadata": {},
   "outputs": [
    {
     "name": "stdout",
     "output_type": "stream",
     "text": [
      "John 's score 80\n"
     ]
    }
   ],
   "source": [
    "# print(字串.formar(參數列))\n",
    "name = 'John'\n",
    "score = 80\n",
    "print('{} \\'s score {}'.format(name,score ) ) \n",
    "# 不知為什'' 不行地"
   ]
  },
  {
   "cell_type": "code",
   "execution_count": 153,
   "metadata": {
    "scrolled": true
   },
   "outputs": [
    {
     "name": "stdout",
     "output_type": "stream",
     "text": [
      "tsmcprice:217.5\n",
      "TSMCprice:217.5\n"
     ]
    },
    {
     "data": {
      "text/plain": [
       "'11'"
      ]
     },
     "execution_count": 153,
     "metadata": {},
     "output_type": "execute_result"
    }
   ],
   "source": [
    "\n",
    "# PEP 498 帶來了 f-string\n",
    "# (那些過時的) Python 字串格式化以及 f-string 字串格式化 https://blog.louie.lu/2017/08/08/outdate-python-string-format-and-fstring/\n",
    "# Python 3.6中新的f-strings https://cito.github.io/blog/f-strings/\n",
    "# error   def upper(s)\n",
    "# upper() 方法将字符串中的小写字母转为大写字母\n",
    "# {} 表示變數\n",
    "\n",
    "\n",
    "def upper(s):\n",
    "    return s.upper()\n",
    "\n",
    "stock = \"tsmc\"\n",
    "close = 217.5\n",
    "f'{stock}price:{close}'\n",
    "\n",
    "g = f'{stock}price:{close}'\n",
    "print(g)\n",
    "\n",
    "print(f'{upper(stock)}price:{close}')\n",
    "f'{upper(stock)}price:{close}'\n",
    "\n",
    "del stock\n",
    "stock = \"Tsmc\"\n",
    "close = 217.5\n",
    "f'{stock}price is :{close}'\n",
    "f'11'\n",
    "#  \" 不行\n"
   ]
  },
  {
   "cell_type": "code",
   "execution_count": 83,
   "metadata": {},
   "outputs": [
    {
     "data": {
      "text/plain": [
       "'He said his name is FRED\\n    and he is 42 years old.'"
      ]
     },
     "execution_count": 83,
     "metadata": {},
     "output_type": "execute_result"
    }
   ],
   "source": [
    "name = 'Fred'\n",
    "seven = 7\n",
    "f'''He said his name is {name.upper()}\n",
    "    ...    and he is {6 * seven} years old.'''\n",
    "'He said his name is FRED\\n    and he is 42 years old.'"
   ]
  },
  {
   "cell_type": "code",
   "execution_count": 73,
   "metadata": {},
   "outputs": [
    {
     "name": "stdout",
     "output_type": "stream",
     "text": [
      "WWW.RUNOOB.COM\n",
      "www.runoob.com\n",
      "Www.runoob.com\n",
      "Www.Runoob.Com\n"
     ]
    }
   ],
   "source": [
    "str = \"www.runoob.com\"\n",
    "print(str.upper())          # 把所有字符中的小写字母转换成大写字母\n",
    "print(str.lower())          # 把所有字符中的大写字母转换成小写字母\n",
    "print(str.capitalize())     # 把第一个字母转化为大写字母，其余小写\n",
    "print(str.title())          # 把每个单词的第一个字母转化为大写，其余小写 "
   ]
  },
  {
   "cell_type": "code",
   "execution_count": 63,
   "metadata": {},
   "outputs": [
    {
     "name": "stdout",
     "output_type": "stream",
     "text": [
      "<class 'int'>\n",
      "<class 'float'>\n",
      "<class 'str'>\n",
      "<class 'bool'>\n"
     ]
    }
   ],
   "source": [
    "print(type(25))\n",
    "print(type(25.0))\n",
    "print(type('25.0'))\n",
    "print(type(True))"
   ]
  },
  {
   "cell_type": "code",
   "execution_count": 106,
   "metadata": {},
   "outputs": [
    {
     "name": "stdout",
     "output_type": "stream",
     "text": [
      "姓名   座號  國文  數學  英文\n",
      "林大明 1 100 87 79\n",
      "陳阿中 2 74 88 100\n",
      "張小英 11 82 65 8\n",
      "姓名   座號  國文  數學  英文\n",
      "林大明   1   100    87   79\n",
      "陳阿中   2    74    88  100\n",
      "張小英  11    82    65    8\n"
     ]
    }
   ],
   "source": [
    "print(\"姓名   座號  國文  數學  英文\")\n",
    "print(\"林大明\", 1, 100, 87, 79)\n",
    "print(\"陳阿中\", 2, 74, 88, 100)\n",
    "print(\"張小英\", 11, 82, 65, 8)\n",
    "\n",
    "print(\"姓名   座號  國文  數學  英文\")\n",
    "print(\"%3s  %2d   %3d   %3d  %3d\" % (\"林大明\", 1, 100, 87, 79))\n",
    "print(\"%3s  %2d   %3d   %3d  %3d\" % (\"陳阿中\", 2, 74, 88, 100))\n",
    "print(\"%3s  %2d   %3d   %3d  %3d\" % (\"張小英\", 11, 82, 65, 8))"
   ]
  },
  {
   "cell_type": "code",
   "execution_count": 160,
   "metadata": {},
   "outputs": [
    {
     "name": "stdout",
     "output_type": "stream",
     "text": [
      "<class 'int'>\n"
     ]
    },
    {
     "data": {
      "text/plain": [
       "\"Fred 's score is : 80\""
      ]
     },
     "execution_count": 160,
     "metadata": {},
     "output_type": "execute_result"
    }
   ],
   "source": [
    "# name = 'John'\n",
    "score = 80\n",
    "print(type(score))\n",
    "\n",
    "f'{name} \\'s score is : {score}'\n",
    "\n",
    "\n",
    "# print(' John \\'s score '+ str (score ) ) \n",
    "#  >>> TypeError: 'str' object is not callable\n"
   ]
  },
  {
   "cell_type": "markdown",
   "metadata": {},
   "source": [
    "2-9 運算式"
   ]
  },
  {
   "cell_type": "code",
   "execution_count": 169,
   "metadata": {},
   "outputs": [
    {
     "name": "stdout",
     "output_type": "stream",
     "text": [
      "8\n"
     ]
    }
   ],
   "source": [
    "i = 5\n",
    "i = i+3\n",
    "print(i)\n",
    "del i"
   ]
  },
  {
   "cell_type": "code",
   "execution_count": 167,
   "metadata": {},
   "outputs": [
    {
     "name": "stdout",
     "output_type": "stream",
     "text": [
      "10\n"
     ]
    }
   ],
   "source": [
    "k = 7\n",
    "k += 3\n",
    "print(k)\n",
    "del k"
   ]
  },
  {
   "cell_type": "code",
   "execution_count": 172,
   "metadata": {},
   "outputs": [
    {
     "name": "stdout",
     "output_type": "stream",
     "text": [
      "50\n",
      "9\n"
     ]
    },
    {
     "ename": "NameError",
     "evalue": "name 'i' is not defined",
     "output_type": "error",
     "traceback": [
      "\u001b[0;31m---------------------------------------------------------------------------\u001b[0m",
      "\u001b[0;31mNameError\u001b[0m                                 Traceback (most recent call last)",
      "\u001b[0;32m<ipython-input-172-b2a24403e084>\u001b[0m in \u001b[0;36m<module>\u001b[0;34m()\u001b[0m\n\u001b[1;32m      8\u001b[0m \u001b[0mprint\u001b[0m\u001b[0;34m(\u001b[0m\u001b[0mi\u001b[0m\u001b[0;34m)\u001b[0m\u001b[0;34m\u001b[0m\u001b[0m\n\u001b[1;32m      9\u001b[0m \u001b[0;32mdel\u001b[0m \u001b[0mi\u001b[0m\u001b[0;34m\u001b[0m\u001b[0m\n\u001b[0;32m---> 10\u001b[0;31m \u001b[0mprint\u001b[0m\u001b[0;34m(\u001b[0m\u001b[0mi\u001b[0m\u001b[0;34m)\u001b[0m\u001b[0;34m\u001b[0m\u001b[0m\n\u001b[0m",
      "\u001b[0;31mNameError\u001b[0m: name 'i' is not defined"
     ]
    }
   ],
   "source": [
    "i = 10\n",
    "i *= 5\n",
    "print(i)\n",
    "del i\n",
    "\n",
    "i=3\n",
    "i**= 2\n",
    "print(i)\n",
    "del i\n",
    "print(i)"
   ]
  },
  {
   "cell_type": "code",
   "execution_count": 174,
   "metadata": {},
   "outputs": [
    {
     "name": "stdout",
     "output_type": "stream",
     "text": [
      "請輸入國文成績：-3\n",
      "請輸入數學成績：-80\n",
      "請輸入英文成績：-77\n",
      "成績總分：-160，平均成績：-53.33\n"
     ]
    }
   ],
   "source": [
    "nat = input(\"請輸入國文成績：\")\n",
    "math = input(\"請輸入數學成績：\")\n",
    "eng = input(\"請輸入英文成績：\")\n",
    "sum = int(nat) + int(math) + int(eng)  #輸入值需轉換為整數\n",
    "average = sum / 3\n",
    "print(\"成績總分：%d，平均成績：%5.2f\" % (sum, average))"
   ]
  },
  {
   "cell_type": "code",
   "execution_count": 209,
   "metadata": {},
   "outputs": [
    {
     "name": "stdout",
     "output_type": "stream",
     "text": [
      "2016 total revenue: 7\n",
      "2017 total revenue: 6\n",
      "2018 total revenue: 6\n",
      "2016~2018 revenue =   19 \n",
      " average revenue =    6.333\n"
     ]
    }
   ],
   "source": [
    "r2016  = input(\"2016 total revenue: \")\n",
    "r2017  = input(\"2017 total revenue: \")\n",
    "r2018  = input(\"2018 total revenue: \"   )\n",
    "sum = int(r2016) + int(r2017) + int(r2018)\n",
    "average = sum / 3\n",
    "print (\"2016~2018 revenue = \" ,\"%3s\"%(sum) ,\"\\n\",\"average revenue = \" \"%8.3f\"%(average)  ) \n",
    "\n",
    "#  %8.3f\"%(average)"
   ]
  },
  {
   "cell_type": "markdown",
   "metadata": {},
   "source": [
    "2.3判斷式\n",
    "2-14"
   ]
  },
  {
   "cell_type": "code",
   "execution_count": 26,
   "metadata": {},
   "outputs": [
    {
     "name": "stdout",
     "output_type": "stream",
     "text": [
      "your score : 40\n",
      "idiot\n"
     ]
    }
   ],
   "source": [
    "score = input(\"your score : \" )\n",
    "if (int(score)>=60):\n",
    "    print(\"及格\")\n",
    "else:\n",
    "    print(\"idiot\")\n",
    "    "
   ]
  },
  {
   "cell_type": "code",
   "execution_count": 18,
   "metadata": {},
   "outputs": [
    {
     "name": "stdout",
     "output_type": "stream",
     "text": [
      "請輸入密碼：1234\n",
      "歡迎光臨！\n"
     ]
    }
   ],
   "source": [
    "pw = input(\"請輸入密碼：\")\n",
    "if(pw==\"1234\"):    print(\"歡迎光臨！\")"
   ]
  },
  {
   "cell_type": "code",
   "execution_count": 20,
   "metadata": {},
   "outputs": [
    {
     "name": "stdout",
     "output_type": "stream",
     "text": [
      "請輸入密碼：2222\n",
      "error\n"
     ]
    }
   ],
   "source": [
    "pw = input(\"請輸入密碼：\")\n",
    "if (pw==\"1234\"):\n",
    "    print(\"ok\")\n",
    "else:\n",
    "    print(\"error\")"
   ]
  },
  {
   "cell_type": "code",
   "execution_count": 35,
   "metadata": {},
   "outputs": [
    {
     "name": "stdout",
     "output_type": "stream",
     "text": [
      "請輸入成績：70\n",
      "E\n",
      "<class 'str'>\n"
     ]
    }
   ],
   "source": [
    "score = input(\"請輸入成績：\")\n",
    "if (score>=\"90\"):\n",
    "    print(\"A\")\n",
    "else:    \n",
    "    print(\"E\")\n",
    "\n",
    "print(type(score))    \n",
    "del score    "
   ]
  },
  {
   "cell_type": "code",
   "execution_count": 38,
   "metadata": {},
   "outputs": [
    {
     "name": "stdout",
     "output_type": "stream",
     "text": [
      "請輸入成績：90\n",
      "優等\n",
      "<class 'str'>\n"
     ]
    }
   ],
   "source": [
    "score = input(\"請輸入成績：\")\n",
    "if(int(score) >= 90):\n",
    "    print(\"優等\")\n",
    "elif(int(score) >= 80):\n",
    "    print(\"甲等\")\n",
    "elif(int(score) >= 70):\n",
    "    print(\"乙等\")\n",
    "elif(int(score) >= 60):\n",
    "    print(\"丙等\")\n",
    "else:\n",
    "    print(\"丁等\")\n",
    "    \n",
    "print(type(score))    "
   ]
  },
  {
   "cell_type": "code",
   "execution_count": 47,
   "metadata": {},
   "outputs": [
    {
     "name": "stdout",
     "output_type": "stream",
     "text": [
      "ptice : $ 111111\n",
      "88888.8\n",
      "<class 'int'>\n"
     ]
    }
   ],
   "source": [
    "before_discount = int(input(\"ptice : $ \"))\n",
    "if (before_discount)>100000:\n",
    "   print(before_discount*0.8)\n",
    "elif(before_discount)>50000:\n",
    "   print(before_discount*0.85)\n",
    "elif(before_discount)>30000:\n",
    "   print(before_discount*0.90)\n",
    "elif(before_discount)>10000:\n",
    "   print(before_discount*0.95)\n",
    "else:\n",
    "   print(before_discount)\n",
    "\n",
    "\n",
    "print(type(before_discount))\n"
   ]
  },
  {
   "cell_type": "code",
   "execution_count": 48,
   "metadata": {},
   "outputs": [
    {
     "name": "stdout",
     "output_type": "stream",
     "text": [
      "請輸入購物金額：8888888\n",
      "7111110.4 元\n"
     ]
    }
   ],
   "source": [
    "# sample\n",
    "money = int(input(\"請輸入購物金額：\"))\n",
    "if(money >= 10000):\n",
    "    if(money >= 100000):\n",
    "        print(str(money * 0.8), end=\" 元\\n\")  #八折\n",
    "    elif(money >= 50000):\n",
    "        print(str(money * 0.85), end=\" 元\\n\")  #八五折\n",
    "    elif(money >= 30000):\n",
    "        print(str(money * 0.9), end=\" 元\\n\")  #九折\n",
    "    else:\n",
    "        print(str(money * 0.95), end=\" 元\\n\")  #九五折\n",
    "else:\n",
    "    print(str(money), end=\" 元\\n\")  #未打折"
   ]
  },
  {
   "cell_type": "code",
   "execution_count": null,
   "metadata": {},
   "outputs": [],
   "source": []
  },
  {
   "cell_type": "code",
   "execution_count": null,
   "metadata": {},
   "outputs": [],
   "source": []
  },
  {
   "cell_type": "code",
   "execution_count": null,
   "metadata": {},
   "outputs": [],
   "source": []
  },
  {
   "cell_type": "code",
   "execution_count": null,
   "metadata": {},
   "outputs": [],
   "source": []
  },
  {
   "cell_type": "code",
   "execution_count": null,
   "metadata": {},
   "outputs": [],
   "source": []
  },
  {
   "cell_type": "code",
   "execution_count": null,
   "metadata": {},
   "outputs": [],
   "source": []
  },
  {
   "cell_type": "code",
   "execution_count": null,
   "metadata": {},
   "outputs": [],
   "source": []
  },
  {
   "cell_type": "code",
   "execution_count": null,
   "metadata": {},
   "outputs": [],
   "source": []
  },
  {
   "cell_type": "code",
   "execution_count": null,
   "metadata": {},
   "outputs": [],
   "source": []
  },
  {
   "cell_type": "code",
   "execution_count": null,
   "metadata": {},
   "outputs": [],
   "source": []
  }
 ],
 "metadata": {
  "kernelspec": {
   "display_name": "Python 3",
   "language": "python",
   "name": "python3"
  },
  "language_info": {
   "codemirror_mode": {
    "name": "ipython",
    "version": 3
   },
   "file_extension": ".py",
   "mimetype": "text/x-python",
   "name": "python",
   "nbconvert_exporter": "python",
   "pygments_lexer": "ipython3",
   "version": "3.6.5"
  }
 },
 "nbformat": 4,
 "nbformat_minor": 2
}
